{
 "cells": [
  {
   "cell_type": "markdown",
   "id": "38b7e683",
   "metadata": {},
   "source": [
    "# Python startup games"
   ]
  },
  {
   "cell_type": "markdown",
   "id": "108d00c8",
   "metadata": {},
   "source": [
    "## Tile Game"
   ]
  },
  {
   "cell_type": "markdown",
   "id": "6618f6f9",
   "metadata": {},
   "source": [
    "Arrange the tiles in the sequence order by swapping the tile position one at a time to solve the puzzle.You can use mouse to swap the tile."
   ]
  },
  {
   "cell_type": "code",
   "execution_count": null,
   "id": "ef40ca59",
   "metadata": {},
   "outputs": [],
   "source": [
    "!python -m freegames.tiles"
   ]
  },
  {
   "cell_type": "markdown",
   "id": "d959f6d0",
   "metadata": {},
   "source": [
    "## Snake Game"
   ]
  },
  {
   "cell_type": "markdown",
   "id": "00b4eef9",
   "metadata": {},
   "source": [
    "A classic snake game to relive your child hood.Use the key arrows catch the food.Avoid hitting the walls to grow bigger"
   ]
  },
  {
   "cell_type": "code",
   "execution_count": null,
   "id": "a5335f5d",
   "metadata": {},
   "outputs": [],
   "source": [
    "!python -m freegames.snake"
   ]
  },
  {
   "cell_type": "markdown",
   "id": "20dce8ac",
   "metadata": {},
   "source": [
    "## Flaapy Game"
   ]
  },
  {
   "cell_type": "markdown",
   "id": "a45c936a",
   "metadata": {},
   "source": [
    "An Arcade flappy bird game to fly higher!!Use mouse click to keep flying,beware of black ravens that fly across"
   ]
  },
  {
   "cell_type": "code",
   "execution_count": null,
   "id": "a7724a8b",
   "metadata": {},
   "outputs": [],
   "source": [
    "!python -m freegames.flappy"
   ]
  },
  {
   "cell_type": "markdown",
   "id": "60058c3a",
   "metadata": {},
   "source": [
    "## Pacman"
   ]
  },
  {
   "cell_type": "markdown",
   "id": "1de312ac",
   "metadata": {},
   "source": [
    "Another arcade game to play!!Use arrow keys to navigate and eat all the white foods.Don't get caught to red ghosts."
   ]
  },
  {
   "cell_type": "code",
   "execution_count": null,
   "id": "f4eaf228",
   "metadata": {},
   "outputs": [],
   "source": [
    "!python -m freegames.pacman"
   ]
  },
  {
   "cell_type": "markdown",
   "id": "ffb66d42",
   "metadata": {},
   "source": [
    "## Pong"
   ]
  },
  {
   "cell_type": "markdown",
   "id": "b5cbb30b",
   "metadata": {},
   "source": [
    " Two player game.Use the arrow keys to move up and move down.The first player who miss the ball loses the game."
   ]
  },
  {
   "cell_type": "code",
   "execution_count": null,
   "id": "2a2d2f73",
   "metadata": {},
   "outputs": [],
   "source": [
    "!python -m freegames.pong"
   ]
  },
  {
   "cell_type": "markdown",
   "id": "4efb8314",
   "metadata": {},
   "source": [
    "## List of games to try.Use the below command to check out various classical games."
   ]
  },
  {
   "cell_type": "code",
   "execution_count": null,
   "id": "82ae7678",
   "metadata": {},
   "outputs": [],
   "source": [
    "!python -m freegames list"
   ]
  }
 ],
 "metadata": {
  "kernelspec": {
   "display_name": "Python 3 (ipykernel)",
   "language": "python",
   "name": "python3"
  },
  "language_info": {
   "codemirror_mode": {
    "name": "ipython",
    "version": 3
   },
   "file_extension": ".py",
   "mimetype": "text/x-python",
   "name": "python",
   "nbconvert_exporter": "python",
   "pygments_lexer": "ipython3",
   "version": "3.9.7"
  }
 },
 "nbformat": 4,
 "nbformat_minor": 5
}
